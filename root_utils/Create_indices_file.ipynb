{
 "cells": [
  {
   "cell_type": "markdown",
   "id": "missing-hardware",
   "metadata": {},
   "source": [
    "# Dataset Index Generation\n",
    "Generates indices for train, validation and test sets"
   ]
  },
  {
   "cell_type": "code",
   "execution_count": 1,
   "id": "superb-conducting",
   "metadata": {
    "scrolled": true
   },
   "outputs": [],
   "source": [
    "import h5py\n",
    "from progressbar import *\n",
    "import re\n",
    "import numpy as np"
   ]
  },
  {
   "cell_type": "markdown",
   "id": "heavy-poker",
   "metadata": {},
   "source": [
    "## Options"
   ]
  },
  {
   "cell_type": "code",
   "execution_count": 2,
   "id": "specific-richmond",
   "metadata": {},
   "outputs": [],
   "source": [
    "# define which files of events are included in test / validation / training split\n",
    "# the same split is done for each particle type\n",
    "test_files_start = 0\n",
    "test_files_stop = test_files_start+400 # first 400 files are for test set\n",
    "val_files_start = test_files_stop\n",
    "val_files_stop = val_files_start+100 # next 100 files are for validation set\n",
    "train_files_start = val_files_stop\n",
    "train_files_stop = train_files_start+500 # next 500 files are for training set\n",
    "#train_files_stop = None # all remaining files are for training set\n",
    "# train_files_stop = 500 # next 500 files are for training set\n",
    "\n",
    "# define which particle labels to include\n",
    "labels = (0, 1, 2, 3)\n",
    "#labels = [3]"
   ]
  },
  {
   "cell_type": "markdown",
   "id": "studied-nursing",
   "metadata": {},
   "source": [
    "## Load dataset"
   ]
  },
  {
   "cell_type": "code",
   "execution_count": 3,
   "id": "convertible-wheat",
   "metadata": {},
   "outputs": [],
   "source": [
    "#data_path = \"/fast_scratch/WatChMaL/data/IWCD_mPMT_Short/tts_egamma/IWCD_mPMT_Short_eg_1p5ns.h5\"\n",
    "data_path = \"/fast_scratch/WatChMaL/data/IWCD_mPMT_Short/IWCD_mPMT_Short_emgp0_E0to1000MeV_digihits.h5\"\n",
    "f = h5py.File(data_path, \"r\")\n",
    "event_labels = np.array(f['labels'])\n",
    "root_files = np.array(f['root_files']).astype(str)"
   ]
  },
  {
   "cell_type": "markdown",
   "id": "right-salem",
   "metadata": {},
   "source": [
    "## Find the files of each label and indices of each file"
   ]
  },
  {
   "cell_type": "code",
   "execution_count": 4,
   "id": "narrow-courtesy",
   "metadata": {},
   "outputs": [],
   "source": [
    "def atoi(text):\n",
    "    return int(text) if text.isdigit() else text\n",
    "# Sort by only the basename of the file, with natural sorting of numbers in the filename\n",
    "def natural_keys(text):\n",
    "    return [ atoi(c) for c in re.split(r'(\\d+)', text.split('/')[-1]) ]"
   ]
  },
  {
   "cell_type": "code",
   "execution_count": 5,
   "id": "color-frequency",
   "metadata": {},
   "outputs": [],
   "source": [
    "files_in_labels = {l: sorted(set(root_files[event_labels==l]), key=natural_keys) for l in labels}\n",
    "idxs_in_files = {f: range(i, i+c) for f,i,c in zip(*np.unique(root_files, return_index=True, return_counts=True))}"
   ]
  },
  {
   "cell_type": "code",
   "execution_count": 6,
   "id": "educated-brazil",
   "metadata": {},
   "outputs": [
    {
     "name": "stdout",
     "output_type": "stream",
     "text": [
      "label 0 has 3000 files and  8868592 indices\n",
      "label 1 has 3000 files and  8833531 indices\n",
      "label 2 has 1000 files and  2911072 indices\n",
      "label 3 has 1000 files and  2868354 indices\n"
     ]
    }
   ],
   "source": [
    "for l, f in files_in_labels.items():\n",
    "    print(\"label\", l,\"has\", len(f),\"files and \", sum([len(idxs_in_files[i]) for i in f]), \"indices\")"
   ]
  },
  {
   "cell_type": "markdown",
   "id": "different-spine",
   "metadata": {},
   "source": [
    "## Create the splits"
   ]
  },
  {
   "cell_type": "code",
   "execution_count": 7,
   "id": "pursuant-desert",
   "metadata": {
    "scrolled": true
   },
   "outputs": [],
   "source": [
    "split_files = {\"test_idxs\":  [f for l in labels for f in files_in_labels[l][test_files_start:test_files_stop]],\n",
    "               \"val_idxs\":   [f for l in labels for f in files_in_labels[l][val_files_start:val_files_stop]],\n",
    "               \"train_idxs\": [f for l in labels for f in files_in_labels[l][train_files_start:train_files_stop]]}\n",
    "split_idxs = {k: [i for f in v for i in idxs_in_files[f]] for k, v in split_files.items()}"
   ]
  },
  {
   "cell_type": "code",
   "execution_count": 8,
   "id": "novel-settlement",
   "metadata": {},
   "outputs": [
    {
     "name": "stdout",
     "output_type": "stream",
     "text": [
      "test_idxs has 1600 files and 4671520 indices\n",
      "val_idxs has 400 files and 1168263 indices\n",
      "train_idxs has 2000 files and 5840471 indices\n"
     ]
    }
   ],
   "source": [
    "for s in split_files.keys():\n",
    "    print(s,\"has\", len(split_files[s]),\"files and\", len(split_idxs[s]),\"indices\")"
   ]
  },
  {
   "cell_type": "code",
   "execution_count": 9,
   "id": "oriental-faith",
   "metadata": {},
   "outputs": [
    {
     "name": "stdout",
     "output_type": "stream",
     "text": [
      "23481549\n",
      "11680254\n",
      "11680254\n"
     ]
    }
   ],
   "source": [
    "# Verify that all events are uniquely accounted for\n",
    "all_indices = np.concatenate(list(split_idxs.values()))\n",
    "print(len(event_labels))\n",
    "print(len(all_indices))\n",
    "print(len(set(all_indices)))"
   ]
  },
  {
   "cell_type": "markdown",
   "id": "natural-google",
   "metadata": {},
   "source": [
    "## Save file"
   ]
  },
  {
   "cell_type": "code",
   "execution_count": 10,
   "id": "statutory-force",
   "metadata": {},
   "outputs": [],
   "source": [
    "#np.savez('/fast_scratch/WatChMaL/data/IWCD_mPMT_Short/tts_egamma/IWCD_mPMT_Short_eg_1p5ns_idxs.npz', **split_idxs)\n",
    "#np.savez('/fast_scratch/WatChMaL/data/IWCD_mPMT_Short/tts_egamma/IWCD_mPMT_Short_eg_2p5ns_idxs.npz', **split_idxs)\n",
    "#np.savez('/fast_scratch/WatChMaL/data/IWCD_mPMT_Short/index_lists/2class_e_gamma/IWCD_mPMT_Short_2_class_eg_9M_all_test.npz', **split_idxs)\n",
    "#np.savez('/fast_scratch/WatChMaL/data/IWCD_mPMT_Short/index_lists/IWCD_mPMT_Short_pi0s.npz', **split_idxs)\n",
    "np.savez('/fast_scratch/WatChMaL/data/IWCD_mPMT_Short/index_lists/4class_e_mu_gamma_pi0/IWCD_mPMT_Short_4_class_3M_emgp0_refixed_idxs.npz', **split_idxs)"
   ]
  },
  {
   "cell_type": "code",
   "execution_count": null,
   "id": "d5b79d8a",
   "metadata": {},
   "outputs": [],
   "source": []
  }
 ],
 "metadata": {
  "kernelspec": {
   "display_name": "Python 3 (ipykernel)",
   "language": "python",
   "name": "python3"
  },
  "language_info": {
   "codemirror_mode": {
    "name": "ipython",
    "version": 3
   },
   "file_extension": ".py",
   "mimetype": "text/x-python",
   "name": "python",
   "nbconvert_exporter": "python",
   "pygments_lexer": "ipython3",
   "version": "3.8.12"
  }
 },
 "nbformat": 4,
 "nbformat_minor": 5
}
